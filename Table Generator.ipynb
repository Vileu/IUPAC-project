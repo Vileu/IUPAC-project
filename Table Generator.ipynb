{
 "cells": [
  {
   "cell_type": "code",
   "execution_count": 1,
   "metadata": {},
   "outputs": [
    {
     "name": "stdout",
     "output_type": "stream",
     "text": [
      "2.7.12 (default, Nov 12 2018, 14:36:49) \n",
      "[GCC 5.4.0 20160609]\n"
     ]
    }
   ],
   "source": [
    "import sys\n",
    "sys.path.insert(0, \"../\")\n",
    "from tmds import *\n",
    "import os"
   ]
  },
  {
   "cell_type": "code",
   "execution_count": 2,
   "metadata": {
    "collapsed": true
   },
   "outputs": [],
   "source": [
    "s = [\"CHA\", \"SFA-Ctk\", \"SFA-Pw\", \"SHA-Ctk\", \"SHA-Pw\", \"SRHA\"]\n",
    "cities = [\"a\", \"b\", \"c\", \"d\", \"e\"]"
   ]
  },
  {
   "cell_type": "code",
   "execution_count": 3,
   "metadata": {
    "collapsed": true
   },
   "outputs": [],
   "source": [
    "elems = \"C H O N S\".split()"
   ]
  },
  {
   "cell_type": "code",
   "execution_count": 4,
   "metadata": {
    "collapsed": true
   },
   "outputs": [],
   "source": [
    "data = []\n",
    "for i in s:\n",
    "    data.append([])\n",
    "    for j in cities:\n",
    "        data[-1].append(pd.read_csv(\"data/{}-{}.txt\".format(i, j), sep='\\t'))\n",
    "        data[-1][-1] = data[-1][-1][data[-1][-1][\"formula\"].str.contains(\"13C\", regex=False) != True]\n",
    "        if \"Unnamed: 0\" in list(data[-1][-1]):\n",
    "            data[-1][-1] = data[-1][-1].drop(\"Unnamed: 0\", axis=1)"
   ]
  },
  {
   "cell_type": "code",
   "execution_count": 5,
   "metadata": {},
   "outputs": [
    {
     "data": {
      "text/html": [
       "<div>\n",
       "<style>\n",
       "    .dataframe thead tr:only-child th {\n",
       "        text-align: right;\n",
       "    }\n",
       "\n",
       "    .dataframe thead th {\n",
       "        text-align: left;\n",
       "    }\n",
       "\n",
       "    .dataframe tbody tr th {\n",
       "        vertical-align: top;\n",
       "    }\n",
       "</style>\n",
       "<table border=\"1\" class=\"dataframe\">\n",
       "  <thead>\n",
       "    <tr style=\"text-align: right;\">\n",
       "      <th></th>\n",
       "      <th>peakNo</th>\n",
       "      <th>mw</th>\n",
       "      <th>relativeAbundance</th>\n",
       "      <th>errorPPM</th>\n",
       "      <th>DBE</th>\n",
       "      <th>class</th>\n",
       "      <th>formula</th>\n",
       "      <th>z</th>\n",
       "      <th>C</th>\n",
       "      <th>H</th>\n",
       "      <th>O</th>\n",
       "      <th>N</th>\n",
       "      <th>S</th>\n",
       "    </tr>\n",
       "  </thead>\n",
       "  <tbody>\n",
       "    <tr>\n",
       "      <th>0</th>\n",
       "      <td>1971</td>\n",
       "      <td>361.006966</td>\n",
       "      <td>0.000501</td>\n",
       "      <td>-0.082082</td>\n",
       "      <td>12.0</td>\n",
       "      <td>N1O10</td>\n",
       "      <td>H7_C15_N_O10</td>\n",
       "      <td>0</td>\n",
       "      <td>15</td>\n",
       "      <td>7</td>\n",
       "      <td>10</td>\n",
       "      <td>1</td>\n",
       "      <td>0</td>\n",
       "    </tr>\n",
       "    <tr>\n",
       "      <th>1</th>\n",
       "      <td>2172</td>\n",
       "      <td>375.022616</td>\n",
       "      <td>0.000416</td>\n",
       "      <td>-0.079211</td>\n",
       "      <td>12.0</td>\n",
       "      <td>N1O10</td>\n",
       "      <td>H9_C16_N_O10</td>\n",
       "      <td>0</td>\n",
       "      <td>16</td>\n",
       "      <td>9</td>\n",
       "      <td>10</td>\n",
       "      <td>1</td>\n",
       "      <td>0</td>\n",
       "    </tr>\n",
       "    <tr>\n",
       "      <th>2</th>\n",
       "      <td>2289</td>\n",
       "      <td>385.007016</td>\n",
       "      <td>0.000757</td>\n",
       "      <td>0.052903</td>\n",
       "      <td>14.0</td>\n",
       "      <td>N1O10</td>\n",
       "      <td>H7_C17_N_O10</td>\n",
       "      <td>0</td>\n",
       "      <td>17</td>\n",
       "      <td>7</td>\n",
       "      <td>10</td>\n",
       "      <td>1</td>\n",
       "      <td>0</td>\n",
       "    </tr>\n",
       "    <tr>\n",
       "      <th>3</th>\n",
       "      <td>2311</td>\n",
       "      <td>387.022646</td>\n",
       "      <td>0.000915</td>\n",
       "      <td>0.000760</td>\n",
       "      <td>13.0</td>\n",
       "      <td>N1O10</td>\n",
       "      <td>H9_C17_N_O10</td>\n",
       "      <td>0</td>\n",
       "      <td>17</td>\n",
       "      <td>9</td>\n",
       "      <td>10</td>\n",
       "      <td>1</td>\n",
       "      <td>0</td>\n",
       "    </tr>\n",
       "    <tr>\n",
       "      <th>4</th>\n",
       "      <td>2453</td>\n",
       "      <td>399.022606</td>\n",
       "      <td>0.001165</td>\n",
       "      <td>-0.099508</td>\n",
       "      <td>14.0</td>\n",
       "      <td>N1O10</td>\n",
       "      <td>H9_C18_N_O10</td>\n",
       "      <td>0</td>\n",
       "      <td>18</td>\n",
       "      <td>9</td>\n",
       "      <td>10</td>\n",
       "      <td>1</td>\n",
       "      <td>0</td>\n",
       "    </tr>\n",
       "  </tbody>\n",
       "</table>\n",
       "</div>"
      ],
      "text/plain": [
       "   peakNo          mw  relativeAbundance  errorPPM   DBE  class       formula  \\\n",
       "0    1971  361.006966           0.000501 -0.082082  12.0  N1O10  H7_C15_N_O10   \n",
       "1    2172  375.022616           0.000416 -0.079211  12.0  N1O10  H9_C16_N_O10   \n",
       "2    2289  385.007016           0.000757  0.052903  14.0  N1O10  H7_C17_N_O10   \n",
       "3    2311  387.022646           0.000915  0.000760  13.0  N1O10  H9_C17_N_O10   \n",
       "4    2453  399.022606           0.001165 -0.099508  14.0  N1O10  H9_C18_N_O10   \n",
       "\n",
       "   z   C  H   O  N  S  \n",
       "0  0  15  7  10  1  0  \n",
       "1  0  16  9  10  1  0  \n",
       "2  0  17  7  10  1  0  \n",
       "3  0  17  9  10  1  0  \n",
       "4  0  18  9  10  1  0  "
      ]
     },
     "execution_count": 5,
     "metadata": {},
     "output_type": "execute_result"
    }
   ],
   "source": [
    "data[0][0].head()"
   ]
  },
  {
   "cell_type": "code",
   "execution_count": 18,
   "metadata": {},
   "outputs": [
    {
     "data": {
      "image/png": "[encoded data removed]",
      "text/plain": [
       "<matplotlib.figure.Figure at 0x7fb6423cadd0>"
      ]
     },
     "metadata": {},
     "output_type": "display_data"
    }
   ],
   "source": [
    "plt.figure(figsize=(12, 12))\n",
    "counts = []\n",
    "plt.subplot(211)\n",
    "\n",
    "plt.title(\"Number of assigned formulae\")\n",
    "for i in range(6):\n",
    "    counts.append([])\n",
    "    for j in range(5):\n",
    "        counts[-1].append(len(data[i][j]))\n",
    "        plt.text(i, j, len(data[i][j]), {'ha': 'center', 'va': 'center'})\n",
    "counts = np.array(counts)\n",
    "plt.imshow(np.array(counts).T)\n",
    "plt.yticks(range(5), cities)\n",
    "plt.xticks(range(6), s, rotation=\"vertical\")\n",
    "plt.ylabel(\"Labs\")\n",
    "plt.colorbar()\n",
    "\n",
    "plt.subplot(212)\n",
    "plt.ylabel(\"Number of formulae\")\n",
    "plt.xlabel(\"Samples\")\n",
    "for i in range(5):\n",
    "    plt.scatter(range(6), counts[:, i], label=cities[i])\n",
    "    \n",
    "plt.xticks(range(6), s)\n",
    "plt.legend()\n",
    "plt.grid()\n",
    "plt.show()"
   ]
  },
  {
   "cell_type": "code",
   "execution_count": 39,
   "metadata": {
    "collapsed": true
   },
   "outputs": [],
   "source": [
    "abundance = []\n",
    "for i in range(6):\n",
    "    abundance.append([])\n",
    "    for j in range(5):\n",
    "        abundance[-1].append(get_dict_of_set(data[i][j], value=\"relativeAbundance\", error=\"errorPPM\"))"
   ]
  },
  {
   "cell_type": "code",
   "execution_count": 40,
   "metadata": {
    "collapsed": true
   },
   "outputs": [],
   "source": [
    "error = []\n",
    "for i in range(6):\n",
    "    error.append([])\n",
    "    for j in range(5):\n",
    "        error[-1].append(get_dict_of_set(data[i][j], value=\"errorPPM\", error=\"errorPPM\"))"
   ]
  },
  {
   "cell_type": "code",
   "execution_count": 41,
   "metadata": {
    "collapsed": true
   },
   "outputs": [],
   "source": [
    "mw = []\n",
    "for i in range(6):\n",
    "    mw.append([])\n",
    "    for j in range(5):\n",
    "        mw[-1].append(get_dict_of_set(data[i][j], value=\"mw\", error=\"errorPPM\"))"
   ]
  },
  {
   "cell_type": "code",
   "execution_count": 42,
   "metadata": {
    "collapsed": true
   },
   "outputs": [],
   "source": [
    "tuples = []\n",
    "for i in range(6):\n",
    "    tuples.append([])\n",
    "    for j in range(5):\n",
    "        tuples[-1].append(get_set_of_tuples_from_np(data[i][j][elems].values))"
   ]
  },
  {
   "cell_type": "code",
   "execution_count": 43,
   "metadata": {
    "collapsed": true
   },
   "outputs": [],
   "source": [
    "def get_inter_residues(n, tuples=tuples, shape=(6, 5)):\n",
    "    tf = []\n",
    "    for i in range(6):\n",
    "        tf.append(set([]))\n",
    "        for j in combinations(range(5), n):\n",
    "            t = reduce(lambda x, y: x & y, map(lambda x: tuples[i][x], j))\n",
    "            tf[-1] |= t\n",
    "\n",
    "    inter = []\n",
    "    for i in range(6):\n",
    "        inter.append([])\n",
    "        for j in range(5):\n",
    "            inter[-1].append(tf[i] & tuples[i][j])\n",
    "\n",
    "    residue = []\n",
    "    for i in range(6):\n",
    "        residue.append([])\n",
    "        for j in range(5):\n",
    "            residue[-1].append(tuples[i][j] - tf[i])\n",
    "        \n",
    "    return inter, residue"
   ]
  },
  {
   "cell_type": "code",
   "execution_count": null,
   "metadata": {
    "collapsed": true
   },
   "outputs": [],
   "source": []
  },
  {
   "cell_type": "code",
   "execution_count": 44,
   "metadata": {
    "collapsed": true
   },
   "outputs": [],
   "source": [
    "inter = []\n",
    "residue = []\n",
    "for n in range(1, 6):\n",
    "    i, r = get_inter_residues(n)\n",
    "    inter.append(i)\n",
    "    residue.append(r)"
   ]
  },
  {
   "cell_type": "code",
   "execution_count": 74,
   "metadata": {},
   "outputs": [
    {
     "data": {
      "text/plain": [
       "{(15, 7, 6, 1, 0),\n",
       " (15, 9, 4, 1, 0),\n",
       " (15, 9, 5, 1, 0),\n",
       " (15, 9, 6, 1, 0),\n",
       " (15, 9, 7, 1, 0),\n",
       " (15, 11, 7, 1, 0),\n",
       " (16, 7, 6, 1, 0),\n",
       " (16, 9, 4, 1, 0),\n",
       " (16, 9, 5, 1, 0),\n",
       " (16, 9, 7, 1, 0),\n",
       " (16, 11, 6, 1, 0),\n",
       " (16, 11, 7, 1, 0),\n",
       " (16, 12, 8, 0, 0),\n",
       " (16, 12, 9, 0, 0),\n",
       " (16, 16, 7, 0, 0),\n",
       " (17, 7, 5, 1, 0),\n",
       " (17, 7, 6, 1, 0),\n",
       " (17, 7, 7, 1, 0),\n",
       " (17, 7, 8, 1, 0),\n",
       " (17, 8, 5, 2, 0),\n",
       " (17, 8, 6, 2, 0),\n",
       " (17, 9, 4, 1, 0),\n",
       " (17, 9, 5, 1, 0),\n",
       " (17, 9, 6, 1, 0),\n",
       " (17, 9, 7, 1, 0),\n",
       " (17, 11, 5, 1, 0),\n",
       " (17, 11, 6, 1, 0),\n",
       " (17, 12, 9, 0, 0),\n",
       " (17, 13, 5, 1, 0),\n",
       " (17, 13, 8, 1, 0),\n",
       " (17, 14, 8, 0, 0),\n",
       " (17, 16, 7, 0, 0),\n",
       " (18, 7, 5, 1, 0),\n",
       " (18, 7, 6, 1, 0),\n",
       " (18, 7, 7, 1, 0),\n",
       " (18, 8, 5, 2, 0),\n",
       " (18, 8, 6, 2, 0),\n",
       " (18, 8, 7, 2, 0),\n",
       " (18, 9, 4, 1, 0),\n",
       " (18, 9, 5, 1, 0),\n",
       " (18, 9, 6, 1, 0),\n",
       " (18, 9, 7, 1, 0),\n",
       " (18, 9, 8, 1, 0),\n",
       " (18, 10, 6, 2, 0),\n",
       " (18, 11, 4, 1, 0),\n",
       " (18, 11, 5, 1, 0),\n",
       " (18, 11, 6, 1, 0),\n",
       " (18, 11, 7, 1, 0),\n",
       " (18, 12, 10, 0, 0),\n",
       " (18, 12, 11, 0, 0),\n",
       " (18, 13, 5, 1, 0),\n",
       " (18, 13, 6, 1, 0),\n",
       " (18, 13, 7, 1, 0),\n",
       " (18, 13, 8, 1, 0),\n",
       " (18, 14, 7, 0, 0),\n",
       " (18, 14, 8, 0, 0),\n",
       " (18, 14, 9, 0, 0),\n",
       " (18, 15, 5, 1, 0),\n",
       " (18, 15, 6, 1, 0),\n",
       " (18, 15, 7, 1, 0),\n",
       " (18, 16, 7, 0, 0),\n",
       " (18, 18, 7, 0, 0),\n",
       " (19, 7, 7, 1, 0),\n",
       " (19, 9, 5, 1, 0),\n",
       " (19, 9, 6, 1, 0),\n",
       " (19, 9, 7, 1, 0),\n",
       " (19, 9, 8, 1, 0),\n",
       " (19, 10, 6, 2, 0),\n",
       " (19, 11, 5, 1, 0),\n",
       " (19, 11, 6, 1, 0),\n",
       " (19, 11, 7, 1, 0),\n",
       " (19, 12, 6, 2, 0),\n",
       " (19, 13, 5, 1, 0),\n",
       " (19, 13, 6, 1, 0),\n",
       " (19, 13, 7, 1, 0),\n",
       " (19, 14, 7, 0, 0),\n",
       " (19, 14, 9, 0, 0),\n",
       " (19, 15, 6, 1, 0),\n",
       " (19, 15, 7, 1, 0),\n",
       " (19, 15, 8, 1, 0),\n",
       " (19, 16, 7, 0, 0),\n",
       " (19, 16, 8, 0, 0),\n",
       " (19, 17, 6, 1, 0),\n",
       " (19, 17, 7, 1, 0),\n",
       " (19, 18, 7, 0, 0),\n",
       " (20, 7, 7, 1, 0),\n",
       " (20, 9, 5, 1, 0),\n",
       " (20, 9, 6, 1, 0),\n",
       " (20, 9, 7, 1, 0),\n",
       " (20, 10, 5, 2, 0),\n",
       " (20, 10, 6, 2, 0),\n",
       " (20, 10, 7, 2, 0),\n",
       " (20, 11, 5, 1, 0),\n",
       " (20, 11, 6, 1, 0),\n",
       " (20, 11, 7, 1, 0),\n",
       " (20, 11, 8, 1, 0),\n",
       " (20, 12, 5, 2, 0),\n",
       " (20, 12, 6, 2, 0),\n",
       " (20, 13, 4, 1, 0),\n",
       " (20, 13, 5, 1, 0),\n",
       " (20, 13, 6, 1, 0),\n",
       " (20, 13, 7, 1, 0),\n",
       " (20, 14, 10, 0, 0),\n",
       " (20, 15, 5, 1, 0),\n",
       " (20, 15, 6, 1, 0),\n",
       " (20, 15, 7, 1, 0),\n",
       " (20, 15, 8, 1, 0),\n",
       " (20, 16, 7, 0, 0),\n",
       " (20, 16, 8, 0, 0),\n",
       " (20, 16, 9, 0, 0),\n",
       " (20, 17, 5, 1, 0),\n",
       " (20, 17, 6, 1, 0),\n",
       " (20, 17, 7, 1, 0),\n",
       " (20, 18, 7, 0, 0),\n",
       " (20, 19, 6, 1, 0),\n",
       " (20, 20, 7, 0, 0),\n",
       " (20, 20, 8, 0, 0),\n",
       " (21, 9, 5, 1, 0),\n",
       " (21, 9, 6, 1, 0),\n",
       " (21, 9, 7, 1, 0),\n",
       " (21, 9, 8, 1, 0),\n",
       " (21, 11, 5, 1, 0),\n",
       " (21, 11, 6, 1, 0),\n",
       " (21, 11, 7, 1, 0),\n",
       " (21, 11, 8, 1, 0),\n",
       " (21, 12, 5, 2, 0),\n",
       " (21, 12, 6, 2, 0),\n",
       " (21, 13, 5, 1, 0),\n",
       " (21, 13, 6, 1, 0),\n",
       " (21, 13, 7, 1, 0),\n",
       " (21, 13, 8, 1, 0),\n",
       " (21, 14, 9, 0, 0),\n",
       " (21, 14, 10, 0, 0),\n",
       " (21, 15, 5, 1, 0),\n",
       " (21, 15, 7, 1, 0),\n",
       " (21, 15, 8, 1, 0),\n",
       " (21, 15, 9, 1, 0),\n",
       " (21, 16, 8, 0, 0),\n",
       " (21, 16, 9, 0, 0),\n",
       " (21, 17, 6, 1, 0),\n",
       " (21, 17, 7, 1, 0),\n",
       " (21, 18, 7, 0, 0),\n",
       " (21, 18, 8, 0, 0),\n",
       " (21, 20, 8, 0, 0),\n",
       " (22, 10, 7, 2, 0),\n",
       " (22, 11, 5, 1, 0),\n",
       " (22, 11, 6, 1, 0),\n",
       " (22, 11, 7, 1, 0),\n",
       " (22, 11, 8, 1, 0),\n",
       " (22, 13, 6, 1, 0),\n",
       " (22, 13, 7, 1, 0),\n",
       " (22, 13, 9, 1, 0),\n",
       " (22, 14, 10, 0, 0),\n",
       " (22, 14, 11, 0, 0),\n",
       " (22, 15, 7, 1, 0),\n",
       " (22, 15, 8, 1, 0),\n",
       " (22, 15, 9, 1, 0),\n",
       " (22, 16, 7, 0, 0),\n",
       " (22, 16, 8, 0, 0),\n",
       " (22, 16, 9, 0, 0),\n",
       " (22, 17, 6, 1, 0),\n",
       " (22, 17, 8, 1, 0),\n",
       " (22, 18, 7, 0, 0),\n",
       " (22, 18, 8, 0, 0),\n",
       " (22, 18, 9, 0, 0),\n",
       " (22, 19, 7, 1, 0),\n",
       " (22, 19, 8, 1, 0),\n",
       " (22, 20, 7, 0, 0),\n",
       " (22, 20, 8, 0, 0),\n",
       " (22, 20, 9, 0, 0),\n",
       " (22, 22, 7, 0, 0),\n",
       " (23, 11, 6, 1, 0),\n",
       " (23, 11, 8, 1, 0),\n",
       " (23, 13, 8, 1, 0),\n",
       " (23, 13, 9, 1, 0),\n",
       " (23, 15, 7, 1, 0),\n",
       " (23, 15, 8, 1, 0),\n",
       " (23, 16, 8, 0, 0),\n",
       " (23, 16, 9, 0, 0),\n",
       " (23, 17, 8, 1, 0),\n",
       " (23, 17, 9, 1, 0),\n",
       " (23, 18, 8, 0, 0),\n",
       " (23, 19, 7, 1, 0),\n",
       " (23, 19, 8, 1, 0),\n",
       " (23, 20, 8, 0, 0),\n",
       " (23, 20, 9, 0, 0),\n",
       " (23, 22, 8, 0, 0),\n",
       " (24, 11, 7, 1, 0),\n",
       " (24, 14, 7, 2, 0),\n",
       " (24, 15, 7, 1, 0),\n",
       " (24, 16, 8, 0, 0),\n",
       " (24, 16, 10, 0, 0),\n",
       " (24, 17, 7, 1, 0),\n",
       " (24, 17, 8, 1, 0),\n",
       " (24, 17, 9, 1, 0),\n",
       " (24, 17, 10, 1, 0),\n",
       " (24, 18, 8, 0, 0),\n",
       " (24, 18, 9, 0, 0),\n",
       " (24, 19, 7, 1, 0),\n",
       " (24, 19, 8, 1, 0),\n",
       " (24, 20, 8, 0, 0),\n",
       " (24, 20, 9, 0, 0),\n",
       " (25, 15, 9, 1, 0),\n",
       " (25, 16, 8, 0, 0),\n",
       " (25, 16, 9, 0, 0),\n",
       " (25, 16, 10, 0, 0),\n",
       " (25, 16, 11, 0, 0),\n",
       " (25, 17, 7, 1, 0),\n",
       " (25, 17, 8, 1, 0),\n",
       " (25, 17, 9, 1, 0),\n",
       " (25, 17, 10, 1, 0),\n",
       " (25, 18, 8, 0, 0),\n",
       " (25, 18, 9, 0, 0),\n",
       " (25, 19, 7, 1, 0),\n",
       " (25, 19, 9, 1, 0),\n",
       " (25, 20, 8, 0, 0),\n",
       " (25, 22, 8, 0, 0),\n",
       " (25, 22, 9, 0, 0),\n",
       " (26, 17, 8, 1, 0),\n",
       " (26, 17, 9, 1, 0),\n",
       " (26, 18, 9, 0, 0),\n",
       " (26, 19, 8, 1, 0),\n",
       " (26, 19, 9, 1, 0),\n",
       " (26, 19, 10, 1, 0),\n",
       " (26, 21, 8, 1, 0),\n",
       " (27, 17, 9, 1, 0),\n",
       " (27, 19, 10, 1, 0),\n",
       " (28, 21, 9, 1, 0)}"
      ]
     },
     "execution_count": 74,
     "metadata": {},
     "output_type": "execute_result"
    }
   ],
   "source": [
    "inter[4][0][4]"
   ]
  },
  {
   "cell_type": "code",
   "execution_count": 94,
   "metadata": {
    "collapsed": true
   },
   "outputs": [],
   "source": [
    "max_inter = []\n",
    "for i in range(6):\n",
    "    max_inter.append([])\n",
    "    for j in range(5):\n",
    "        max_inter[-1].append({})\n",
    "        \n",
    "for k in range(5):\n",
    "    for i in range(6):\n",
    "        for j in range(5):\n",
    "            for t in inter[k][i][j]:\n",
    "                max_inter[i][j][t] = k + 1"
   ]
  },
  {
   "cell_type": "code",
   "execution_count": null,
   "metadata": {
    "collapsed": true
   },
   "outputs": [],
   "source": []
  },
  {
   "cell_type": "code",
   "execution_count": null,
   "metadata": {
    "collapsed": true
   },
   "outputs": [],
   "source": []
  },
  {
   "cell_type": "code",
   "execution_count": 97,
   "metadata": {
    "collapsed": true
   },
   "outputs": [],
   "source": [
    "st = \"exp\\ttown\\tabundance\\tmw\\terror\\tC\\tH\\tO\\tN\\tS\\ty\\n\"\n",
    "for i in range(6):\n",
    "    for j in range(5):\n",
    "        I = list(map(lambda x: abundance[i][j][x], tuples[i][j]))        \n",
    "        E = list(map(lambda x: error[i][j][x], tuples[i][j]))\n",
    "        M = list(map(lambda x: mw[i][j][x], tuples[i][j]))\n",
    "        F = list(map(lambda x: x, tuples[i][j]))\n",
    "        Y = list(map(lambda x: max_inter[i][j][x], tuples[i][j]))\n",
    "        for ii, e, m, f, y in zip(I, E, M, F, Y):\n",
    "            t = '\\t'.join(map(lambda x: str(x), f))\n",
    "            #st += f\"{s[i]}\\t{cities[j]}\\t{ii}\\t{m}\\t{e}\\t{t}\\t{1}\\n\"\n",
    "            st += \"{}\\t{}\\t{}\\t{}\\t{}\\t{}\\t{}\\n\".format(s[i], cities[j], ii, m, e, t, y)\n",
    "            "
   ]
  },
  {
   "cell_type": "code",
   "execution_count": 98,
   "metadata": {
    "collapsed": true
   },
   "outputs": [],
   "source": [
    "with open(\"data.csv\", \"w\") as f:\n",
    "    f.write(st)"
   ]
  },
  {
   "cell_type": "code",
   "execution_count": null,
   "metadata": {
    "collapsed": true
   },
   "outputs": [],
   "source": []
  },
  {
   "cell_type": "code",
   "execution_count": null,
   "metadata": {
    "collapsed": true
   },
   "outputs": [],
   "source": []
  },
  {
   "cell_type": "code",
   "execution_count": null,
   "metadata": {
    "collapsed": true
   },
   "outputs": [],
   "source": []
  }
 ],
 "metadata": {
  "kernelspec": {
   "display_name": "Python 3",
   "language": "python",
   "name": "python3"
  },
  "language_info": {
   "codemirror_mode": {
    "name": "ipython",
    "version": 3
   },
   "file_extension": ".py",
   "mimetype": "text/x-python",
   "name": "python",
   "nbconvert_exporter": "python",
   "pygments_lexer": "ipython3",
   "version": "3.6.8"
  }
 },
 "nbformat": 4,
 "nbformat_minor": 2
}
